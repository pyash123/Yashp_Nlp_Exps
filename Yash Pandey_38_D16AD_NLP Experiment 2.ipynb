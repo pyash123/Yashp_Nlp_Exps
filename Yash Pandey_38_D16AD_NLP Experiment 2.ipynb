{
 "cells": [
  {
   "cell_type": "markdown",
   "id": "8d76eb5b",
   "metadata": {},
   "source": [
    "# Validate Name"
   ]
  },
  {
   "cell_type": "code",
   "execution_count": 1,
   "id": "3ce60698",
   "metadata": {},
   "outputs": [],
   "source": [
    "def validate(name):\n",
    "  flag = 0\n",
    "  for char in name:\n",
    "    if not ((\"A\" <= char and char <= \"Z\") or (\"a\" <= char and char <= \"z\") or (char == \" \")):\n",
    "        flag = 1\n",
    "\n",
    "  if(flag == 0):\n",
    "    return 'Valid name'\n",
    "  else:\n",
    "    return 'Invalid name'"
   ]
  },
  {
   "cell_type": "code",
   "execution_count": 2,
   "id": "d000c468",
   "metadata": {},
   "outputs": [
    {
     "name": "stdout",
     "output_type": "stream",
     "text": [
      "Enter name: Vansh\n",
      "Valid name\n"
     ]
    }
   ],
   "source": [
    "name = input('Enter name: ')\n",
    "output = validate(name)\n",
    "print(output)"
   ]
  },
  {
   "cell_type": "markdown",
   "id": "1e8062e6",
   "metadata": {},
   "source": [
    "# Validate Number"
   ]
  },
  {
   "cell_type": "code",
   "execution_count": 3,
   "id": "8645e123",
   "metadata": {},
   "outputs": [],
   "source": [
    "def validatePhone(phone):\n",
    "  flag = 1\n",
    "  length = len(phone)\n",
    "\n",
    "  for char in phone:\n",
    "    if ((\"A\" >= char and char >= \"Z\") or (\"a\" >= char and char >= \"z\") or (char == \" \")) or (length != 10):\n",
    "        flag = 0\n",
    "        break\n",
    "\n",
    "  if(flag == 1):\n",
    "    print('Valid phone')\n",
    "  else:\n",
    "    print('Invalid phone')"
   ]
  },
  {
   "cell_type": "code",
   "execution_count": 4,
   "id": "ebef7b7d",
   "metadata": {},
   "outputs": [
    {
     "name": "stdout",
     "output_type": "stream",
     "text": [
      "Enter phone: 9849322920\n",
      "Valid phone\n",
      "None\n"
     ]
    }
   ],
   "source": [
    "phone = input('Enter phone: ')\n",
    "out = validatePhone(phone)\n",
    "print(out)"
   ]
  },
  {
   "cell_type": "markdown",
   "id": "e76c51a2",
   "metadata": {},
   "source": [
    "# Validate Email"
   ]
  },
  {
   "cell_type": "code",
   "execution_count": 5,
   "id": "9898d093",
   "metadata": {},
   "outputs": [
    {
     "name": "stdout",
     "output_type": "stream",
     "text": [
      "test20@example.com is a valid email address.\n",
      "user18@gmail.com is a valid email address.\n",
      "invalid_email@ is an invalid email address.\n",
      "no_domain@com is an invalid email address.\n"
     ]
    }
   ],
   "source": [
    "import re\n",
    "def is_valid_email(email):\n",
    "    pattern = r'^[a-zA-Z0-9._%+-]+@[a-zA-Z0-9.-]+\\.[a-zA-Z]{2,}$'\n",
    "    if re.match(pattern, email):\n",
    "        return True\n",
    "    else:\n",
    "        return False\n",
    "    \n",
    "emails = ['test20@example.com', 'user18@gmail.com', 'invalid_email@', 'no_domain@com']\n",
    "\n",
    "for email in emails:\n",
    "    if is_valid_email(email):\n",
    "        print(f\"{email} is a valid email address.\")\n",
    "    else:\n",
    "        print(f\"{email} is an invalid email address.\")"
   ]
  },
  {
   "cell_type": "markdown",
   "id": "1350c5e2",
   "metadata": {},
   "source": [
    "# Filter Punctuation"
   ]
  },
  {
   "cell_type": "code",
   "execution_count": 6,
   "id": "847b0b45",
   "metadata": {},
   "outputs": [
    {
     "name": "stdout",
     "output_type": "stream",
     "text": [
      "Hello World This is a sample text with some punctuations\n"
     ]
    }
   ],
   "source": [
    "def filter_punctuation(input_string):\n",
    "    punctuation_chars = '''!\"#$%&'()*+,-./:;<=>?@[\\\\]^_`{|}~'''    \n",
    "    filtered_string = \"\"\n",
    "\n",
    "    for char in input_string:\n",
    "        if char not in punctuation_chars:\n",
    "            filtered_string += char\n",
    "    return filtered_string\n",
    "\n",
    "input_text = \"Hello, World! This is a sample text with some punctuations.\"\n",
    "filtered_text = filter_punctuation(input_text)\n",
    "print(filtered_text)"
   ]
  },
  {
   "cell_type": "markdown",
   "id": "7ac87846",
   "metadata": {},
   "source": [
    "# Stopword Filteration"
   ]
  },
  {
   "cell_type": "code",
   "execution_count": 1,
   "id": "6d18fbfa",
   "metadata": {},
   "outputs": [
    {
     "name": "stdout",
     "output_type": "stream",
     "text": [
      "Yash Pandey\n"
     ]
    }
   ],
   "source": [
    "def remove_stopwords(input_text):\n",
    "    custom_stopwords = {'i', 'me', 'my', 'myself', 'we', 'our', 'ours', 'ourselves', 'you', \"you're\", \"you've\", \"you'll\", \"you'd\", 'your', 'yours', 'yourself', 'yourselves', 'he', 'him', 'his', 'himself', 'she', \"she's\", 'her', 'hers', 'herself', 'it', \"it's\", 'its', 'itself', 'they', 'them', 'their', 'theirs', 'themselves', 'what', 'which', 'who', 'whom', 'this', 'that', \"that'll\", 'these', 'those', 'am', 'is', 'are', 'was', 'were', 'be', 'been', 'being', 'have', 'has', 'had', 'having', 'do', 'does', 'did', 'doing', 'a', 'an', 'the', 'and', 'but', 'if', 'or', 'because', 'as', 'until', 'while', 'of', 'at', 'by', 'for', 'with', 'about', 'against', 'between', 'into', 'through', 'during', 'before', 'after', 'above', 'below', 'to', 'from', 'up', 'down', 'in', 'out', 'on', 'off', 'over', 'under', 'again', 'further', 'then', 'once', 'here', 'there', 'when', 'where', 'why', 'how', 'all', 'any', 'both', 'each', 'few', 'more', 'most', 'other', 'some', 'such', 'no', 'nor', 'not', 'only', 'own', 'same', 'so', 'than', 'too', 'very', 's', 't', 'can', 'will', 'just', 'don', \"don't\", 'should', \"should've\", 'now', 'd', 'll', 'm', 'o', 're', 've', 'y', 'ain', 'aren', \"aren't\", 'couldn', \"couldn't\", 'didn', \"didn't\", 'doesn', \"doesn't\", 'hadn', \"hadn't\", 'hasn', \"hasn't\", 'haven', \"haven't\", 'isn', \"isn't\", 'ma', 'mightn', \"mightn't\", 'mustn', \"mustn't\", 'needn', \"needn't\", 'shan', \"shan't\", 'shouldn', \"shouldn't\", 'wasn', \"wasn't\", 'weren', \"weren't\", 'won', \"won't\", 'wouldn', \"wouldn't\"}  \n",
    "    words = input_text.split()   \n",
    "    filtered_words = []\n",
    "\n",
    "    for word in words:\n",
    "        if word.lower() not in custom_stopwords:\n",
    "            filtered_words.append(word)\n",
    "    filtered_text = ' '.join(filtered_words)\n",
    "    return filtered_text\n",
    "\n",
    "input_text = \"I am Yash Pandey\"\n",
    "filtered_text = remove_stopwords(input_text)\n",
    "print(filtered_text)"
   ]
  },
  {
   "cell_type": "markdown",
   "id": "4e03a1bd",
   "metadata": {},
   "source": [
    "# Regional Language Filtration"
   ]
  },
  {
   "cell_type": "code",
   "execution_count": 8,
   "id": "3a2228b1",
   "metadata": {},
   "outputs": [
    {
     "name": "stdout",
     "output_type": "stream",
     "text": [
      "  sample text  with some English characters.\n"
     ]
    }
   ],
   "source": [
    "def filter_non_english(input_text):\n",
    "    english_unicode_range = (0x0020, 0x007E)\n",
    "    filtered_text = \"\"\n",
    "\n",
    "    for char in input_text:\n",
    "        if ord(char) >= english_unicode_range[0] and ord(char) <= english_unicode_range[1]:\n",
    "            filtered_text += char\n",
    "    return filtered_text\n",
    "\n",
    "input_text = \"यह एक sample text है with some English characters.\"\n",
    "filtered_text = filter_non_english(input_text)\n",
    "print(filtered_text)"
   ]
  },
  {
   "cell_type": "markdown",
   "id": "5903251f",
   "metadata": {},
   "source": [
    "# Word Tokenization"
   ]
  },
  {
   "cell_type": "code",
   "execution_count": 9,
   "id": "fe055a28",
   "metadata": {},
   "outputs": [
    {
     "name": "stdout",
     "output_type": "stream",
     "text": [
      "['Word', 'tokenization', 'is', 'the', 'process', 'of', 'splitting', 'a', 'text', 'into', 'individual', 'words']\n"
     ]
    }
   ],
   "source": [
    "def word_tokenize(text):\n",
    "    delimiters = \".,!?;:()[]{}\\\"'\\n\\t \"\n",
    "    \n",
    "    tokens = []\n",
    "    start = 0\n",
    "    end = 0\n",
    "\n",
    "    for i, char in enumerate(text):\n",
    "        if char in delimiters:\n",
    "            if start != end:\n",
    "                tokens.append(text[start:end])\n",
    "            start = i + 1\n",
    "            end = i + 1\n",
    "        else:\n",
    "            end = i + 1\n",
    "            \n",
    "    if start != end:\n",
    "        tokens.append(text[start:end])\n",
    "    return tokens\n",
    "\n",
    "text = \"Word tokenization is the process of splitting a text into individual words.\"\n",
    "tokens = word_tokenize(text)\n",
    "print(tokens)"
   ]
  }
 ],
 "metadata": {
  "kernelspec": {
   "display_name": "Python 3 (ipykernel)",
   "language": "python",
   "name": "python3"
  },
  "language_info": {
   "codemirror_mode": {
    "name": "ipython",
    "version": 3
   },
   "file_extension": ".py",
   "mimetype": "text/x-python",
   "name": "python",
   "nbconvert_exporter": "python",
   "pygments_lexer": "ipython3",
   "version": "3.11.4"
  }
 },
 "nbformat": 4,
 "nbformat_minor": 5
}
