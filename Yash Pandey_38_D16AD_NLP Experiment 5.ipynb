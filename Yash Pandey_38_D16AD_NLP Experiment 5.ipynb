{
 "cells": [
  {
   "cell_type": "markdown",
   "id": "2b185e89",
   "metadata": {},
   "source": [
    "# Unigram"
   ]
  },
  {
   "cell_type": "code",
   "execution_count": 1,
   "id": "267d4348",
   "metadata": {},
   "outputs": [
    {
     "name": "stdout",
     "output_type": "stream",
     "text": [
      "Unigram : \n",
      "('Whenever',)\n",
      "('it',)\n",
      "('rains,',)\n",
      "('I',)\n",
      "('like',)\n",
      "('to',)\n",
      "('wear',)\n",
      "('my',)\n",
      "('blue',)\n",
      "('coat.',)\n"
     ]
    }
   ],
   "source": [
    "from nltk.util import ngrams\n",
    "\n",
    "n = 1\n",
    "sentence = 'Whenever it rains, I like to wear my blue coat.'\n",
    "unigrams = ngrams(sentence.split(), n)\n",
    "\n",
    "print('Unigram : ')\n",
    "for item in unigrams:\n",
    "    print(item)"
   ]
  },
  {
   "cell_type": "markdown",
   "id": "df711f8e",
   "metadata": {},
   "source": [
    "# Bigram"
   ]
  },
  {
   "cell_type": "code",
   "execution_count": 2,
   "id": "6f54cb9f",
   "metadata": {},
   "outputs": [
    {
     "name": "stdout",
     "output_type": "stream",
     "text": [
      "Bigram : \n",
      "('Whenever', 'it')\n",
      "('it', 'rains,')\n",
      "('rains,', 'I')\n",
      "('I', 'like')\n",
      "('like', 'to')\n",
      "('to', 'wear')\n",
      "('wear', 'my')\n",
      "('my', 'blue')\n",
      "('blue', 'coat.')\n"
     ]
    }
   ],
   "source": [
    "from nltk.util import ngrams\n",
    "\n",
    "n = 2\n",
    "sentence = 'Whenever it rains, I like to wear my blue coat.'\n",
    "bigrams = ngrams(sentence.split(), n)\n",
    "\n",
    "print('Bigram : ')\n",
    "for item in bigrams:\n",
    "    print(item)"
   ]
  },
  {
   "cell_type": "markdown",
   "id": "c4defb71",
   "metadata": {},
   "source": [
    "# Trigram"
   ]
  },
  {
   "cell_type": "code",
   "execution_count": 3,
   "id": "5756760e",
   "metadata": {},
   "outputs": [
    {
     "name": "stdout",
     "output_type": "stream",
     "text": [
      "Trigram : \n",
      "('Whenever', 'it', 'rains,')\n",
      "('it', 'rains,', 'I')\n",
      "('rains,', 'I', 'like')\n",
      "('I', 'like', 'to')\n",
      "('like', 'to', 'wear')\n",
      "('to', 'wear', 'my')\n",
      "('wear', 'my', 'blue')\n",
      "('my', 'blue', 'coat.')\n"
     ]
    }
   ],
   "source": [
    "from nltk.util import ngrams\n",
    "\n",
    "n = 3\n",
    "sentence = 'Whenever it rains, I like to wear my blue coat.'\n",
    "trigrams = ngrams(sentence.split(), n)\n",
    "\n",
    "print('Trigram : ')\n",
    "for item in trigrams:\n",
    "    print(item)"
   ]
  },
  {
   "cell_type": "markdown",
   "id": "1c44c710",
   "metadata": {},
   "source": [
    "# Ngram Probability Table"
   ]
  },
  {
   "cell_type": "code",
   "execution_count": 4,
   "id": "6e5aa2f6",
   "metadata": {},
   "outputs": [],
   "source": [
    "import nltk\n",
    "from nltk import word_tokenize, bigrams, FreqDist\n",
    "from nltk.util import ngrams"
   ]
  },
  {
   "cell_type": "code",
   "execution_count": 5,
   "id": "2fd8301f",
   "metadata": {},
   "outputs": [
    {
     "name": "stderr",
     "output_type": "stream",
     "text": [
      "[nltk_data] Downloading package punkt to\n",
      "[nltk_data]     C:\\Users\\ombha\\AppData\\Roaming\\nltk_data...\n",
      "[nltk_data]   Package punkt is already up-to-date!\n"
     ]
    },
    {
     "data": {
      "text/plain": [
       "True"
      ]
     },
     "execution_count": 5,
     "metadata": {},
     "output_type": "execute_result"
    }
   ],
   "source": [
    "nltk.download('punkt')"
   ]
  },
  {
   "cell_type": "code",
   "execution_count": 6,
   "id": "707b6443",
   "metadata": {},
   "outputs": [],
   "source": [
    "# Sample text data\n",
    "text = 'Whenever it rains, I like to wear my blue coat.'"
   ]
  },
  {
   "cell_type": "code",
   "execution_count": 7,
   "id": "bf040dfc",
   "metadata": {},
   "outputs": [],
   "source": [
    "# Tokenize the text into word\n",
    "words = nltk.word_tokenize(text)"
   ]
  },
  {
   "cell_type": "code",
   "execution_count": 8,
   "id": "dec96b9a",
   "metadata": {},
   "outputs": [],
   "source": [
    "# Generate bigrams\n",
    "bi_grams = list(bigrams(words))"
   ]
  },
  {
   "cell_type": "code",
   "execution_count": 9,
   "id": "f1cddcb3",
   "metadata": {},
   "outputs": [],
   "source": [
    "# Calculate bigram counts\n",
    "bigram_freq = FreqDist(bi_grams)"
   ]
  },
  {
   "cell_type": "code",
   "execution_count": 10,
   "id": "d7f93119",
   "metadata": {},
   "outputs": [],
   "source": [
    "# Calculate total no. of bigrams\n",
    "total_bigrams = len(bi_grams)"
   ]
  },
  {
   "cell_type": "code",
   "execution_count": 11,
   "id": "1b9e7ba7",
   "metadata": {},
   "outputs": [
    {
     "name": "stdout",
     "output_type": "stream",
     "text": [
      "Bigram Counts:\n",
      "\n",
      "Bigram          Count           Probability\n",
      "=============================================\n",
      "Whenever it     1               0.0909\n",
      "it rains        1               0.0909\n",
      "rains ,         1               0.0909\n",
      ", I             1               0.0909\n",
      "I like          1               0.0909\n",
      "like to         1               0.0909\n",
      "to wear         1               0.0909\n",
      "wear my         1               0.0909\n",
      "my blue         1               0.0909\n",
      "blue coat       1               0.0909\n",
      "coat .          1               0.0909\n"
     ]
    }
   ],
   "source": [
    "# Create a table for bigram counts\n",
    "print(\"Bigram Counts:\")\n",
    "print(\"\\n{:<15} {:<15} {:<10}\".format(\"Bigram\", \"Count\", \"Probability\"))\n",
    "print(\"=\" * 45)\n",
    "\n",
    "for bigram, count in bigram_freq.items():\n",
    "    prob = count / total_bigrams\n",
    "    print(\"{:<15} {:<15} {:.4f}\".format(' '.join(bigram), count, prob))"
   ]
  }
 ],
 "metadata": {
  "kernelspec": {
   "display_name": "Python 3 (ipykernel)",
   "language": "python",
   "name": "python3"
  },
  "language_info": {
   "codemirror_mode": {
    "name": "ipython",
    "version": 3
   },
   "file_extension": ".py",
   "mimetype": "text/x-python",
   "name": "python",
   "nbconvert_exporter": "python",
   "pygments_lexer": "ipython3",
   "version": "3.9.7"
  }
 },
 "nbformat": 4,
 "nbformat_minor": 5
}
