{
 "cells": [
  {
   "cell_type": "code",
   "execution_count": 21,
   "id": "234f771e",
   "metadata": {},
   "outputs": [],
   "source": [
    "import nltk\n",
    "from nltk import word_tokenize\n",
    "from nltk import pos_tag"
   ]
  },
  {
   "cell_type": "code",
   "execution_count": 22,
   "id": "d92bf325",
   "metadata": {},
   "outputs": [],
   "source": [
    "# example 1\n",
    "sentences = ['Natural Language Processing is a of computer science information engineering and artificial intelligence.']"
   ]
  },
  {
   "cell_type": "code",
   "execution_count": 26,
   "id": "2f6b271c",
   "metadata": {},
   "outputs": [
    {
     "name": "stdout",
     "output_type": "stream",
     "text": [
      "Tokens : ['Natural', 'Language', 'Processing', 'is', 'a', 'of', 'computer', 'science', 'information', 'engineering', 'and', 'artificial', 'intelligence', '.']\n"
     ]
    }
   ],
   "source": [
    "print('Tokens :',tokens)"
   ]
  },
  {
   "cell_type": "code",
   "execution_count": 28,
   "id": "1ba8b593",
   "metadata": {},
   "outputs": [
    {
     "name": "stdout",
     "output_type": "stream",
     "text": [
      "POS Tagging :\n",
      " [('Natural', 'JJ'), ('Language', 'NNP'), ('Processing', 'NNP'), ('is', 'VBZ'), ('a', 'DT'), ('of', 'IN'), ('computer', 'NN'), ('science', 'NN'), ('information', 'NN'), ('engineering', 'NN'), ('and', 'CC'), ('artificial', 'JJ'), ('intelligence', 'NN'), ('.', '.')]\n"
     ]
    }
   ],
   "source": [
    "for sentence in sentences:\n",
    "    tokens = word_tokenize(sentence)\n",
    "    tagged_words = pos_tag(tokens)\n",
    "    print('POS Tagging :\\n', tagged_words)"
   ]
  },
  {
   "cell_type": "code",
   "execution_count": 31,
   "id": "30337734",
   "metadata": {},
   "outputs": [
    {
     "name": "stdout",
     "output_type": "stream",
     "text": [
      "Tokens : ['Dear', 'students', 'please', 'refer', 'to', 'the', 'attached', 'links', 'for', 'implementing', 'the', 'mini', 'projects', '.']\n"
     ]
    }
   ],
   "source": [
    "# example 2\n",
    "sentences1 = ['Dear students please refer to the attached links for implementing the mini projects.']\n",
    "print('Tokens :',tokens)"
   ]
  },
  {
   "cell_type": "code",
   "execution_count": 30,
   "id": "38f1d4d0",
   "metadata": {},
   "outputs": [
    {
     "name": "stdout",
     "output_type": "stream",
     "text": [
      "POS Tagging :\n",
      " [('Dear', 'JJ'), ('students', 'NNS'), ('please', 'VBP'), ('refer', 'VB'), ('to', 'TO'), ('the', 'DT'), ('attached', 'JJ'), ('links', 'NNS'), ('for', 'IN'), ('implementing', 'VBG'), ('the', 'DT'), ('mini', 'NN'), ('projects', 'NNS'), ('.', '.')]\n"
     ]
    }
   ],
   "source": [
    "for sentence in sentences1:\n",
    "    tokens = word_tokenize(sentence)\n",
    "    tagged_words = pos_tag(tokens)\n",
    "    print('POS Tagging :\\n', tagged_words)"
   ]
  }
 ],
 "metadata": {
  "kernelspec": {
   "display_name": "Python 3 (ipykernel)",
   "language": "python",
   "name": "python3"
  },
  "language_info": {
   "codemirror_mode": {
    "name": "ipython",
    "version": 3
   },
   "file_extension": ".py",
   "mimetype": "text/x-python",
   "name": "python",
   "nbconvert_exporter": "python",
   "pygments_lexer": "ipython3",
   "version": "3.9.7"
  }
 },
 "nbformat": 4,
 "nbformat_minor": 5
}
